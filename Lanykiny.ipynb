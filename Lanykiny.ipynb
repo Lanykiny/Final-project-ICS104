def  all_persons():
    print("ID",end ="")
    print("%21s"%"FirstName",end ="")
    print("%13s"%"LastName",end ="")
    print("%12s"%"Gender",end ="")
    print("%19s"%"Nationality",end ="")
    print("%10s"%"Address",end ="")
    print("%10s"%"DOB",end ="")
    print("%22s"%"Group_Blood",end ="")
    print("%9s"%"Mobile",end ="")
    
    infile=open("Person.txt", "r")
    print()
    x = 0
    for i in infile:
        x+=1 
        i = i.rstrip()
        print("%-14s" % i,end ="")
        if x ==9:
            print()
            x = 0  

all_persons()
####UNFINISHED WORK (Edited)
