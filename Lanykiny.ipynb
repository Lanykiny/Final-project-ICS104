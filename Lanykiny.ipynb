def  all_persons():
    print("%10s"%"ID",end ="")
    print("%10s"%"FirstName",end ="")
    print("%10s"%"LastName",end ="")
    print("%10s"%"Gender",end ="")
    print("%15s"%"Nationality",end ="")
    print("%10s"%"Address",end ="")
    print("%10s"%"DOB",end ="")
    print("%10s"%"GroupBlood",end ="")
    print("%10s"%"Mobile",end ="")
    infile=open("Person.txt", "r")
    print("\n")
    i=0
    for line in infile:
        i=i+1
        line= line.rstrip()
        print("%78s" %line,end="")
        if i%9==0:
            print("\n")
    infile.close()
    


    

    
    
    
    
all_persons()
####UNFINISHED WORK
